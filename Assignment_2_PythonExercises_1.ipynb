{
  "nbformat": 4,
  "nbformat_minor": 0,
  "metadata": {
    "colab": {
      "provenance": [],
      "authorship_tag": "ABX9TyNZDcW2LOWwEStRBGRsYZV9",
      "include_colab_link": true
    },
    "kernelspec": {
      "name": "python3",
      "display_name": "Python 3"
    },
    "language_info": {
      "name": "python"
    }
  },
  "cells": [
    {
      "cell_type": "markdown",
      "metadata": {
        "id": "view-in-github",
        "colab_type": "text"
      },
      "source": [
        "<a href=\"https://colab.research.google.com/github/DanielaOrtGon/AI_AugDec2024_1999960/blob/main/Assignment_2_PythonExercises_1.ipynb\" target=\"_parent\"><img src=\"https://colab.research.google.com/assets/colab-badge.svg\" alt=\"Open In Colab\"/></a>"
      ]
    },
    {
      "cell_type": "markdown",
      "source": [
        "# **Assignment 2.- Basics on Python.**"
      ],
      "metadata": {
        "id": "OZc6WEcDsF3U"
      }
    },
    {
      "cell_type": "markdown",
      "source": [
        "**Daniela Ortega González**\n",
        "\n",
        "**1999960**\n",
        "\n",
        "**Date: Sept/05th/2024**"
      ],
      "metadata": {
        "id": "trpYLeqgsOir"
      }
    },
    {
      "cell_type": "markdown",
      "source": [
        "##**Text Analysis Tool**\n",
        "Create a Python program that reads a text file and performs various analyses on its content. The program should: Count the number of words, sentences, and paragraphs. Calculate the average word length. Identify the most common words and their frequencies."
      ],
      "metadata": {
        "id": "atsOg3T7vCdz"
      }
    },
    {
      "cell_type": "code",
      "source": [
        "import urllib.request\n",
        "\n",
        "url = 'https://raw.githubusercontent.com/DanielaOrtGon/AI_AugDec2024_1999960/main/Assignments/prideandprejudice_textexample.txt'\n",
        "filename = 'prideandprejudice_textexample.txt'\n",
        "\n",
        "urllib.request.urlretrieve(url, filename)"
      ],
      "metadata": {
        "colab": {
          "base_uri": "https://localhost:8080/"
        },
        "id": "MOfTcAChRxJV",
        "outputId": "48b17602-d896-4ca6-ae82-4a417524e47d"
      },
      "execution_count": 41,
      "outputs": [
        {
          "output_type": "execute_result",
          "data": {
            "text/plain": [
              "('prideandprejudice_textexample.txt',\n",
              " <http.client.HTTPMessage at 0x7f1f6fc15240>)"
            ]
          },
          "metadata": {},
          "execution_count": 41
        }
      ]
    },
    {
      "cell_type": "code",
      "source": [
        "text = open('prideandprejudice_textexample.txt', 'r')\n",
        "content = text.read() #Reads the content of the file\n",
        "\n",
        "# To count the number of words in text\n",
        "# content.split divides the text in subchains using the spaces between words\n",
        "words = content.split()\n",
        "number_words = len(words)\n",
        "\n",
        "# To count the number of sentences in text, content.split divides the text in subchains using the \".\"\n",
        "# -1 needed due to aditional split at the end\n",
        "sentences = len(content.split('.')) - 1\n",
        "\n",
        "# To count the number of paragraphs in text, paragraph is indicated by double line '\\n\\n'\n",
        "# \\n\\n indicates two consecutive line breaks\n",
        "paragraphs = len(content.split('\\n\\n'))\n",
        "\n",
        "# Calculating average word length\n",
        "words = content.split()\n",
        "total_word_length = sum(len(letters) for letters in words)\n",
        "average_word_length = total_word_length / number_words\n",
        "\n",
        "# Identifying most common words and their frequencies\n",
        "words_lowercase = content.lower().split()  # Convert to lowercase to avoid capitalization differences\n",
        "word_frequency = {}\n",
        "for word in words_lowercase: # for loop to count the frecuency of words in text\n",
        "    word_frequency[word] = word_frequency.get(word, 0) + 1  # + 1 needed for counting each frecuency,\n",
        "                                                            # if not it will returna frequendy of zero\n",
        "\n",
        "# Stores the words with higher frecuency\n",
        "words_wanted = 7\n",
        "most_common_words = sorted(word_frequency.items(), key=lambda x: x[1], reverse=True)[:words_wanted]\n",
        "# 'most_common_words' has all frecuencies in descending order, returns the higher wanted\n",
        "\n",
        "print('Text Analysis Tool\\n')\n",
        "print('Number of words in the text: ', number_words)\n",
        "print('Number of sentences in the text: ', sentences)\n",
        "print('Number of paragraphs in the text: ', paragraphs)\n",
        "print(\"Average word lenght: %.2f\" % (average_word_length))\n",
        "print('7 most common words and their frequencies:')\n",
        "for word, frequency in most_common_words:\n",
        "        print(\"  '\" + word + \"' --> \" + str(frequency) + \" times in text\")\n",
        "\n",
        "text.close()"
      ],
      "metadata": {
        "colab": {
          "base_uri": "https://localhost:8080/"
        },
        "id": "1Su4S4p_RKv0",
        "outputId": "f25c3c0e-4c7c-4e4c-d963-69d510ebb9dc"
      },
      "execution_count": 42,
      "outputs": [
        {
          "output_type": "stream",
          "name": "stdout",
          "text": [
            "Text Analysis Tool\n",
            "\n",
            "Number of words in the text:  233\n",
            "Number of sentences in the text:  15\n",
            "Number of paragraphs in the text:  10\n",
            "Average word lenght: 4.15\n",
            "7 most common words and their frequencies:\n",
            "  'of' --> 10 times in text\n",
            "  'a' --> 8 times in text\n",
            "  'that' --> 8 times in text\n",
            "  'the' --> 8 times in text\n",
            "  'to' --> 7 times in text\n",
            "  'is' --> 6 times in text\n",
            "  'in' --> 5 times in text\n"
          ]
        }
      ]
    },
    {
      "cell_type": "markdown",
      "source": [
        "##**Hangman Game**\n",
        "Create a Python program that allows a user to play the game of Hangman. The program should randomly select a word from a predefined list, and the player must guess letters one at a time until they guess the word correctly or run out of attempts.\n"
      ],
      "metadata": {
        "id": "t8VuFWtl9cWK"
      }
    },
    {
      "cell_type": "code",
      "execution_count": 34,
      "metadata": {
        "colab": {
          "base_uri": "https://localhost:8080/"
        },
        "id": "sCJ1yL8BQRds",
        "outputId": "67260841-82ca-4ce3-9ca7-7b350c4e754c"
      },
      "outputs": [
        {
          "output_type": "stream",
          "name": "stdout",
          "text": [
            "¡Hangman Game!\n",
            "Choose letters to guess the word! You have 7 attempts! \n",
            "\n",
            "\n",
            "+++++++++++++++++++\n",
            "\n",
            "_ _ _ _ _ _\n",
            "\n",
            "\n",
            "Incorrect letters: \n",
            "Lives: 7\n",
            "Type a letter: a\n",
            "\n",
            "+++++++++++++++++++\n",
            "\n",
            "_ a _ _ _ _\n",
            "\n",
            "\n",
            "Incorrect letters: \n",
            "Lives: 7\n",
            "Type a letter: d\n",
            "\n",
            "+++++++++++++++++++\n",
            "\n",
            "_ a _ _ _ _\n",
            "\n",
            "\n",
            "Incorrect letters: d\n",
            "Lives: 6\n",
            "Type a letter: e\n",
            "\n",
            "+++++++++++++++++++\n",
            "\n",
            "_ a _ _ e _\n",
            "\n",
            "\n",
            "Incorrect letters: d\n",
            "Lives: 6\n",
            "Type a letter: p\n",
            "\n",
            "+++++++++++++++++++\n",
            "\n",
            "_ a _ _ e _\n",
            "\n",
            "\n",
            "Incorrect letters: d-p\n",
            "Lives: 5\n",
            "Type a letter: l\n",
            "\n",
            "+++++++++++++++++++\n",
            "\n",
            "_ a _ _ e _\n",
            "\n",
            "\n",
            "Incorrect letters: d-p-l\n",
            "Lives: 4\n",
            "Type a letter: m\n",
            "\n",
            "+++++++++++++++++++\n",
            "\n",
            "_ a _ _ e _\n",
            "\n",
            "\n",
            "Incorrect letters: d-p-l-m\n",
            "Lives: 3\n",
            "Type a letter: j\n",
            "\n",
            "+++++++++++++++++++\n",
            "\n",
            "j a _ _ e _\n",
            "\n",
            "\n",
            "Incorrect letters: d-p-l-m\n",
            "Lives: 3\n",
            "Type a letter: c\n",
            "\n",
            "+++++++++++++++++++\n",
            "\n",
            "j a c _ e _\n",
            "\n",
            "\n",
            "Incorrect letters: d-p-l-m\n",
            "Lives: 3\n",
            "Type a letter: k\n",
            "\n",
            "+++++++++++++++++++\n",
            "\n",
            "j a c k e _\n",
            "\n",
            "\n",
            "Incorrect letters: d-p-l-m\n",
            "Lives: 3\n",
            "Type a letter: t\n",
            "j a c k e t\n",
            "Congrats! You found the chosen word!\n"
          ]
        }
      ],
      "source": [
        "import random\n",
        "\n",
        "word_list = ['apple', 'ball', 'cat', 'dog', 'elephant', 'fish', 'grape', 'hat',\n",
        "             'ice', 'jacket','kangaroo', 'lemon', 'monkey', 'notebook', 'orange',\n",
        "             'pen', 'quilt', 'rose', 'snake', 'tiger','umbrella', 'vase', 'window',\n",
        "             'xylophone', 'yogurt', 'zebra', 'airplane', 'book', 'chair', 'desk',\n",
        "             'engine', 'frog', 'guitar', 'helmet', 'jelly', 'kiwi', 'lamp', 'mirror',\n",
        "             'noodle', 'octopus','pencil', 'quokka', 'radio', 'shoe', 'tree', 'ufo',\n",
        "             'volcano', 'whale', 'yawn']\n",
        "\n",
        "# Variables to store game status\n",
        "correct_letters = []\n",
        "incorrect_letters = []\n",
        "tries = 7\n",
        "correct_guess = 0\n",
        "game_end = False\n",
        "\n",
        "# Choose a random word\n",
        "# Determine how many unique letters the player needs to guess\n",
        "def choose_word(word_list):\n",
        "    chosen_word = choice(word_list)\n",
        "    unique_letters = len(set(chosen_word)) # Converts the chosen word into a set of letters,\n",
        "    return chosen_word, unique_letters          # eliminates duplicates\n",
        "\n",
        "# Asks the player a letter\n",
        "def ask_letter():\n",
        "    chosen_letter = ''\n",
        "    is_valid = False\n",
        "    alphabet = 'abcdefghijklmnopqrstuvwxyz'\n",
        "    while not is_valid: # while loop, until the is_valid is True\n",
        "        chosen_letter = input('Type a letter: ').lower() # In lowercase so its valid\n",
        "        if chosen_letter in alphabet and len(chosen_letter) == 1:\n",
        "            is_valid = True\n",
        "        else:\n",
        "            print('You did not select a valid letter, try again')\n",
        "    return chosen_letter\n",
        "\n",
        "# Shows the current state of the word/game\n",
        "def current_state(chosen_word):\n",
        "    hidden_list = [] # Update of the guessed word\n",
        "    for l in chosen_word:\n",
        "        if l in correct_letters:\n",
        "            hidden_list.append(l)\n",
        "        else:\n",
        "            hidden_list.append('_')\n",
        "    print(' '.join(hidden_list))\n",
        "\n",
        "# To verify if the letter is in the chosen word, check coincidences and attempts\n",
        "def check_letter(chosen_letter, hidden_word, attempts, coincidences):\n",
        "    end_of_game = False\n",
        "\n",
        "    if chosen_letter in hidden_word and chosen_letter not in correct_letters:\n",
        "        correct_letters.append(chosen_letter)\n",
        "        coincidences += 1\n",
        "    elif chosen_letter in hidden_word and chosen_letter in hidden_word:\n",
        "        print('You already tried that letter, try with a different one')\n",
        "    else:\n",
        "        incorrect_letters.append(chosen_letter)\n",
        "        attempts -= 1\n",
        "\n",
        "    if attempts == 0:\n",
        "        end_of_game = lose()\n",
        "    elif coincidences == unique_letters:\n",
        "        end_of_game = win(hidden_word)\n",
        "\n",
        "    return attempts, end_of_game, coincidences\n",
        "\n",
        "# In case of losing\n",
        "def lose():\n",
        "    print('You ran out of attempts')\n",
        "    print('The hidden word was ' + word)\n",
        "    return True\n",
        "\n",
        "# In case of winning\n",
        "def win(discovered_word):\n",
        "    current_state(discovered_word)\n",
        "    print('Congrats! You found the chosen word!')\n",
        "    return True\n",
        "\n",
        "# To \"start\" the game\n",
        "word, unique_letters = choose_word(word_list)\n",
        "\n",
        "print('¡Hangman Game!')\n",
        "print('Choose letters to guess the word! You have 7 attempts! \\n')\n",
        "\n",
        "while not game_end:\n",
        "    print('\\n' + '+++++++++++++++++++' + '\\n')\n",
        "    current_state(word)\n",
        "    print('\\n')\n",
        "    print('Incorrect letters: ' + '-'.join(incorrect_letters))\n",
        "    print(f'Lives: {tries}')\n",
        "    letter = ask_letter()\n",
        "    tries, ended, correct_guess = check_letter(letter, word, tries, correct_guess)\n",
        "    game_end = ended"
      ]
    },
    {
      "cell_type": "markdown",
      "source": [
        "##**Number Guessing Game**\n",
        "Create a program that generates a random number between 1 and 100, and then asks the user to guess the number. The program should provide hints to the user if the guessed number is greater or less than the target number, and keep asking for a new guess until the user guesses correctly.\n"
      ],
      "metadata": {
        "id": "Cx-kppGrNuD_"
      }
    },
    {
      "cell_type": "code",
      "source": [
        "import random\n",
        "\n",
        "print(\"Number Guessing Game\\n\")\n",
        "random_number = randint(1,100)\n",
        "tries = 1\n",
        "\n",
        "print(\"Let´s start the game! I'm going to think of a number between 1 and 100 for you to guess, you have 10 tries\")\n",
        "\n",
        "while tries <= 10:\n",
        "    chosen_number = int(input('\\nEnter a number: '))\n",
        "    if chosen_number == random_number:\n",
        "            print(f'\\nCongrats! You guessed the number in {tries} tries')\n",
        "            break\n",
        "    elif chosen_number not in range(1,101):\n",
        "        print('The number given is not between the range from 1 to 100, please try another number in this range')\n",
        "    elif chosen_number > random_number:\n",
        "        print('The number i\\'m thinking is less than that, please try again')\n",
        "    else:\n",
        "        print('The number i\\'m thinking is greater than that, please try again')\n",
        "    tries += 1\n",
        "else:\n",
        "    print(f\"\\n You have used all your tries, the number was '{random_number}'\")"
      ],
      "metadata": {
        "colab": {
          "base_uri": "https://localhost:8080/"
        },
        "id": "WlngIjnBQ5nN",
        "outputId": "b154b9dd-32d9-4745-87e8-37271cabfeb2"
      },
      "execution_count": 35,
      "outputs": [
        {
          "output_type": "stream",
          "name": "stdout",
          "text": [
            "Number Guessing Game\n",
            "\n",
            "Let´s start the game! I'm going to think of a number between 1 and 100 for you to guess, you have 10 tries\n",
            "\n",
            "Enter a number: 20\n",
            "The number i'm thinking is greater than that, please try again\n",
            "\n",
            "Enter a number: 40\n",
            "The number i'm thinking is greater than that, please try again\n",
            "\n",
            "Enter a number: 70\n",
            "The number i'm thinking is less than that, please try again\n",
            "\n",
            "Enter a number: 60\n",
            "The number i'm thinking is less than that, please try again\n",
            "\n",
            "Enter a number: 50\n",
            "The number i'm thinking is less than that, please try again\n",
            "\n",
            "Enter a number: 46\n",
            "The number i'm thinking is less than that, please try again\n",
            "\n",
            "Enter a number: 44\n",
            "The number i'm thinking is less than that, please try again\n",
            "\n",
            "Enter a number: 42\n",
            "The number i'm thinking is less than that, please try again\n",
            "\n",
            "Enter a number: 41\n",
            "\n",
            "Congrats! You guessed the number in 9 tries\n"
          ]
        }
      ]
    }
  ]
}