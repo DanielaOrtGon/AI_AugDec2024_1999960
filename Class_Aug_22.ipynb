{
  "nbformat": 4,
  "nbformat_minor": 0,
  "metadata": {
    "colab": {
      "provenance": [],
      "authorship_tag": "ABX9TyMi8HZAszOG8YxwkppEfePp",
      "include_colab_link": true
    },
    "kernelspec": {
      "name": "python3",
      "display_name": "Python 3"
    },
    "language_info": {
      "name": "python"
    }
  },
  "cells": [
    {
      "cell_type": "markdown",
      "metadata": {
        "id": "view-in-github",
        "colab_type": "text"
      },
      "source": [
        "<a href=\"https://colab.research.google.com/github/DanielaOrtGon/AI_AugDec2024_1999960/blob/main/Class_Aug_22.ipynb\" target=\"_parent\"><img src=\"https://colab.research.google.com/assets/colab-badge.svg\" alt=\"Open In Colab\"/></a>"
      ]
    },
    {
      "cell_type": "markdown",
      "source": [
        "### **Class of August 22nd 2024**"
      ],
      "metadata": {
        "id": "Dw4rDk3O7VOa"
      }
    },
    {
      "cell_type": "code",
      "execution_count": null,
      "metadata": {
        "colab": {
          "base_uri": "https://localhost:8080/"
        },
        "id": "q9WIXQyw63-x",
        "outputId": "594440c7-5c75-4501-8925-292d35475d42"
      },
      "outputs": [
        {
          "output_type": "stream",
          "name": "stdout",
          "text": [
            "Five is greater than two\n"
          ]
        }
      ],
      "source": [
        "if 5>2:\n",
        "  print(\"Five is greater than two\") # This is my first comment"
      ]
    },
    {
      "cell_type": "code",
      "source": [
        "\"\"\"\n",
        "This\n",
        "is\n",
        "another\n",
        "multilineal\n",
        "comment\n",
        "\"\"\"\n",
        "print(\"Hello, World! :D\")"
      ],
      "metadata": {
        "colab": {
          "base_uri": "https://localhost:8080/"
        },
        "id": "s_50MFU28Gbz",
        "outputId": "a6467706-f35c-42de-8a20-311291832f18"
      },
      "execution_count": null,
      "outputs": [
        {
          "output_type": "stream",
          "name": "stdout",
          "text": [
            "Hello, World! :D\n"
          ]
        }
      ]
    },
    {
      "cell_type": "code",
      "source": [
        "x = 10 # Integer (in green)\n",
        "y = \"Pancho\" # string (in red)\n",
        "z = True # boolean (in blue, True or False)\n",
        "print(x)\n",
        "print(y)\n",
        "print(z)\n",
        "type(y) # It gives the type of data stored in y"
      ],
      "metadata": {
        "colab": {
          "base_uri": "https://localhost:8080/"
        },
        "id": "vc9bt2iO8e2o",
        "outputId": "83cb5083-a48a-4f2b-eaa8-f08b0d6a4c22"
      },
      "execution_count": null,
      "outputs": [
        {
          "output_type": "stream",
          "name": "stdout",
          "text": [
            "10\n",
            "Pancho\n",
            "True\n"
          ]
        },
        {
          "output_type": "execute_result",
          "data": {
            "text/plain": [
              "str"
            ]
          },
          "metadata": {},
          "execution_count": 7
        }
      ]
    },
    {
      "cell_type": "code",
      "source": [
        "# Operations with variables.\n",
        "x = 5\n",
        "y = 4\n",
        "z = 22\n",
        "\n",
        "print(x + y + z)"
      ],
      "metadata": {
        "colab": {
          "base_uri": "https://localhost:8080/"
        },
        "id": "p7U9rRyG8-sP",
        "outputId": "e5086535-5ad8-44b4-bb36-e1a1afe9508d"
      },
      "execution_count": null,
      "outputs": [
        {
          "output_type": "stream",
          "name": "stdout",
          "text": [
            "31\n"
          ]
        }
      ]
    },
    {
      "cell_type": "code",
      "source": [
        "# Concatenate strings\n",
        "x = \"Daniela\"\n",
        "y = \"Ortega\"\n",
        "print(x + \" \" + y)"
      ],
      "metadata": {
        "colab": {
          "base_uri": "https://localhost:8080/"
        },
        "id": "I-RESgtX9P2d",
        "outputId": "a48599ca-2a00-4f3d-c91e-7cd95cc6bb01"
      },
      "execution_count": null,
      "outputs": [
        {
          "output_type": "stream",
          "name": "stdout",
          "text": [
            "Daniela Ortega\n"
          ]
        }
      ]
    },
    {
      "cell_type": "code",
      "source": [
        "# Data types examples\n",
        "# Text\n",
        "x = \"hola Mundo\" # str\n",
        "# Numeric\n",
        "y = 5 # int\n",
        "z = 65.47 # float\n",
        "s = 1j # complex\n",
        "# Sequential\n",
        "a = ['apple', 'bananna', 'orange'] # list\n",
        "b = ('apple', 'bananna', 'orange') # tuple\n",
        "# Boolean\n",
        "c = True #boolean"
      ],
      "metadata": {
        "id": "0VczQSGu9qvp"
      },
      "execution_count": null,
      "outputs": []
    },
    {
      "cell_type": "code",
      "source": [
        "# Strings\n",
        "\n",
        "a = \"hello!\"\n",
        "b = 'hello!'\n",
        "\n",
        "print(a)\n",
        "print(b)"
      ],
      "metadata": {
        "colab": {
          "base_uri": "https://localhost:8080/"
        },
        "id": "E0_msxXv-at-",
        "outputId": "fcdb4a1b-ccfc-4550-f061-49549417c30c"
      },
      "execution_count": null,
      "outputs": [
        {
          "output_type": "stream",
          "name": "stdout",
          "text": [
            "hello!\n",
            "hello!\n"
          ]
        }
      ]
    },
    {
      "cell_type": "code",
      "source": [
        "# Multilineal strings\n",
        "a = \"\"\"Lorem ipsum dolor sit amet,\n",
        "consectetur adipiscing elit,\n",
        "sed do eiusmod tempor incididunt\n",
        "ut labore et dolore magna aliqua.\"\"\"\n",
        "print(a)"
      ],
      "metadata": {
        "colab": {
          "base_uri": "https://localhost:8080/"
        },
        "id": "GyLxvzlN-jhT",
        "outputId": "2a9781d7-946f-4a04-ad65-17cd5f3b7f37"
      },
      "execution_count": null,
      "outputs": [
        {
          "output_type": "stream",
          "name": "stdout",
          "text": [
            "Lorem ipsum dolor sit amet,\n",
            "consectetur adipiscing elit,\n",
            "sed do eiusmod tempor incididunt\n",
            "ut labore et dolore magna aliqua.\n"
          ]
        }
      ]
    },
    {
      "cell_type": "code",
      "source": [
        "a = \"¡La pizza de Don Cangrejo es la mejor! \"\n",
        "print(len(a)) # It prints the amount of characters in the phrase"
      ],
      "metadata": {
        "colab": {
          "base_uri": "https://localhost:8080/"
        },
        "id": "xXoU_Bbz-vsE",
        "outputId": "6c250dc5-fb7a-46f7-9418-c5eeb30ab842"
      },
      "execution_count": null,
      "outputs": [
        {
          "output_type": "stream",
          "name": "stdout",
          "text": [
            "39\n"
          ]
        }
      ]
    },
    {
      "cell_type": "code",
      "source": [
        "a = \"My name is: \"\n",
        "b = \"Daniela\"\n",
        "c = a + b\n",
        "print(c)"
      ],
      "metadata": {
        "colab": {
          "base_uri": "https://localhost:8080/"
        },
        "id": "h2BECm9q-56j",
        "outputId": "35c0dd4f-d7c1-4e79-af22-f9d58f6857e8"
      },
      "execution_count": null,
      "outputs": [
        {
          "output_type": "stream",
          "name": "stdout",
          "text": [
            "My name is: Daniela\n"
          ]
        }
      ]
    },
    {
      "cell_type": "code",
      "source": [
        "# Expressions to be evaluated.\n",
        "\n",
        "print(10 > 9)\n",
        "print(10 == 9)\n",
        "print(10 < 9)\n"
      ],
      "metadata": {
        "colab": {
          "base_uri": "https://localhost:8080/"
        },
        "id": "RPNZjijm_AVx",
        "outputId": "55b72e9a-dc3a-4e1d-e496-576cc33d73b4"
      },
      "execution_count": null,
      "outputs": [
        {
          "output_type": "stream",
          "name": "stdout",
          "text": [
            "True\n",
            "False\n",
            "False\n"
          ]
        }
      ]
    },
    {
      "cell_type": "code",
      "source": [
        "x=3\n",
        "print(x)"
      ],
      "metadata": {
        "colab": {
          "base_uri": "https://localhost:8080/"
        },
        "id": "g_fFbK51AGau",
        "outputId": "b4781540-0939-4d59-9d3a-f065a51dbf97"
      },
      "execution_count": null,
      "outputs": [
        {
          "output_type": "stream",
          "name": "stdout",
          "text": [
            "3\n"
          ]
        }
      ]
    },
    {
      "cell_type": "code",
      "source": [
        "print(x < 5 or x < 4)"
      ],
      "metadata": {
        "colab": {
          "base_uri": "https://localhost:8080/"
        },
        "id": "E1V7rAJ6AeSN",
        "outputId": "d67522c0-94de-495c-cc53-9d308923820f"
      },
      "execution_count": null,
      "outputs": [
        {
          "output_type": "stream",
          "name": "stdout",
          "text": [
            "True\n"
          ]
        }
      ]
    },
    {
      "cell_type": "code",
      "source": [
        "print(not 5 < 4)"
      ],
      "metadata": {
        "colab": {
          "base_uri": "https://localhost:8080/"
        },
        "id": "O-KHr1erAlD9",
        "outputId": "36fa04d1-1e76-465d-b6cf-f0935d69e2ad"
      },
      "execution_count": null,
      "outputs": [
        {
          "output_type": "stream",
          "name": "stdout",
          "text": [
            "True\n"
          ]
        }
      ]
    },
    {
      "cell_type": "code",
      "source": [
        "print(x < 5 and x < 10)"
      ],
      "metadata": {
        "colab": {
          "base_uri": "https://localhost:8080/"
        },
        "id": "PNPE5VttAUG7",
        "outputId": "97a8b32c-1d24-4517-d6a9-1d65348fc56b"
      },
      "execution_count": null,
      "outputs": [
        {
          "output_type": "stream",
          "name": "stdout",
          "text": [
            "True\n"
          ]
        }
      ]
    },
    {
      "cell_type": "code",
      "source": [
        "# This is a list\n",
        "lalista = [\"apple\", \"banana\", \"cherry\"]\n",
        "print(lalista)"
      ],
      "metadata": {
        "colab": {
          "base_uri": "https://localhost:8080/"
        },
        "id": "TixO9-1bA5GH",
        "outputId": "0141110c-f47a-4108-869c-8ea728f7e130"
      },
      "execution_count": null,
      "outputs": [
        {
          "output_type": "stream",
          "name": "stdout",
          "text": [
            "['apple', 'banana', 'cherry']\n"
          ]
        }
      ]
    },
    {
      "cell_type": "code",
      "source": [
        "# Duplicate values in a list\n",
        "thislist = [\"apple\", \"banana\", \"cherry\", \"apple\", \"cherry\"]\n",
        "print(thislist)"
      ],
      "metadata": {
        "colab": {
          "base_uri": "https://localhost:8080/"
        },
        "id": "rk4MPhwLBDK2",
        "outputId": "9eb621ab-55a7-405e-ff01-2fbd0bd68c24"
      },
      "execution_count": null,
      "outputs": [
        {
          "output_type": "stream",
          "name": "stdout",
          "text": [
            "['apple', 'banana', 'cherry', 'apple', 'cherry']\n"
          ]
        }
      ]
    },
    {
      "cell_type": "code",
      "source": [
        "# Length of a list\n",
        "thislist = [\"apple\", \"banana\", \"cherry\"]\n",
        "print(len(thislist))"
      ],
      "metadata": {
        "colab": {
          "base_uri": "https://localhost:8080/"
        },
        "id": "LE4lX-cbBJJ2",
        "outputId": "a2e8e672-bac0-4e46-f7a2-a2e5876b5c13"
      },
      "execution_count": null,
      "outputs": [
        {
          "output_type": "stream",
          "name": "stdout",
          "text": [
            "3\n"
          ]
        }
      ]
    },
    {
      "cell_type": "code",
      "source": [
        "# A list can contain different types of data.\n",
        "list1 = [\"abc\", 34, True, 40, \"male\"]\n",
        "print(list1)\n",
        "\n",
        "print(type(list1[-1])) # The -1 is to show the type of data of the last data on the list"
      ],
      "metadata": {
        "colab": {
          "base_uri": "https://localhost:8080/"
        },
        "id": "jnvWfQRdBPY6",
        "outputId": "1dffd622-26f7-4361-8cbf-93ff5964779b"
      },
      "execution_count": null,
      "outputs": [
        {
          "output_type": "stream",
          "name": "stdout",
          "text": [
            "['abc', 34, True, 40, 'male']\n",
            "<class 'str'>\n"
          ]
        }
      ]
    },
    {
      "cell_type": "code",
      "source": [
        "# Range of index.\n",
        "thislist = [\"apple\", \"banana\", \"cherry\", \"orange\", \"kiwi\", \"melon\", \"mango\"]\n",
        "print(thislist[2:])"
      ],
      "metadata": {
        "colab": {
          "base_uri": "https://localhost:8080/"
        },
        "id": "YQoxjYcsByuM",
        "outputId": "78025e59-875f-4fc7-edf9-264d46221c8f"
      },
      "execution_count": null,
      "outputs": [
        {
          "output_type": "stream",
          "name": "stdout",
          "text": [
            "['cherry', 'orange', 'kiwi', 'melon', 'mango']\n"
          ]
        }
      ]
    },
    {
      "cell_type": "code",
      "source": [
        "thislist.append(\"pineapple\")\n",
        "print(thislist)"
      ],
      "metadata": {
        "colab": {
          "base_uri": "https://localhost:8080/"
        },
        "id": "KUHRcUKLCYBS",
        "outputId": "799edb44-7b5f-4cea-9021-4779314d4c38"
      },
      "execution_count": null,
      "outputs": [
        {
          "output_type": "stream",
          "name": "stdout",
          "text": [
            "['apple', 'banana', 'cherry', 'orange', 'kiwi', 'melon', 'mango', 'pineapple', 'pineapple', 'pineapple', 'pineapple']\n"
          ]
        }
      ]
    },
    {
      "cell_type": "code",
      "source": [
        "# Indentation!\n",
        "a = 33\n",
        "b = 200\n",
        "\n",
        "if b > a:\n",
        "  z = a + b\n",
        "  print(z)\n",
        "\n",
        "if b > a:\n",
        "  print(\"b is greater than a\")"
      ],
      "metadata": {
        "colab": {
          "base_uri": "https://localhost:8080/"
        },
        "id": "hYuzx8AwCyC9",
        "outputId": "a9a14c38-8536-472e-e84a-ff22cefe952c"
      },
      "execution_count": null,
      "outputs": [
        {
          "output_type": "stream",
          "name": "stdout",
          "text": [
            "233\n",
            "b is greater than a\n"
          ]
        }
      ]
    },
    {
      "cell_type": "code",
      "source": [
        "# Elif\n",
        "a = 33\n",
        "b = 33\n",
        "\n",
        "if b > a:\n",
        "  print(\"b is greater than a\")\n",
        "elif a == b:\n",
        "  print(\"a and b are equal\")"
      ],
      "metadata": {
        "colab": {
          "base_uri": "https://localhost:8080/"
        },
        "id": "-VlApntbDHYZ",
        "outputId": "e77e61a0-c321-4b6c-9488-010fff652ff4"
      },
      "execution_count": null,
      "outputs": [
        {
          "output_type": "stream",
          "name": "stdout",
          "text": [
            "a and b are equal\n"
          ]
        }
      ]
    },
    {
      "cell_type": "code",
      "source": [
        "# Else\n",
        "a = 33\n",
        "b = 66\n",
        "\n",
        "if b < a:\n",
        "  print(\"b is greater than a\")\n",
        "elif a == b:\n",
        "  print(\"a and b are equal\")\n",
        "elif a + a == b:\n",
        "  print(\"b is 2 times a\")\n",
        "else:\n",
        "  print(\"a is greater than b\")"
      ],
      "metadata": {
        "colab": {
          "base_uri": "https://localhost:8080/"
        },
        "id": "V8zReyEiDQqz",
        "outputId": "5ec3338a-b3e9-446b-fecd-1ba5591d831a"
      },
      "execution_count": null,
      "outputs": [
        {
          "output_type": "stream",
          "name": "stdout",
          "text": [
            "b is 2 times a\n"
          ]
        }
      ]
    },
    {
      "cell_type": "code",
      "source": [
        "# Logical operators \"and\", \"or\" y \"not\".\n",
        "a = 200\n",
        "b = 200\n",
        "c = 50\n",
        "\n",
        "if a > b and c > a or a == b:\n",
        "  print(\":D\")\n",
        "\n",
        "a = 200\n",
        "b = 33\n",
        "c = 500\n",
        "\n",
        "if a > b or a > c:\n",
        "  print(\"At least one of the conditions is True\")"
      ],
      "metadata": {
        "colab": {
          "base_uri": "https://localhost:8080/"
        },
        "id": "xaMjVgV0Dpku",
        "outputId": "2adf9ca8-0974-4e2e-f4b1-170ab6687728"
      },
      "execution_count": null,
      "outputs": [
        {
          "output_type": "stream",
          "name": "stdout",
          "text": [
            ":D\n",
            "At least one of the conditions is True\n"
          ]
        }
      ]
    },
    {
      "cell_type": "code",
      "source": [
        "# Nested Ifs.\n",
        "\n",
        "x = 15\n",
        "\n",
        "if x > 10:\n",
        "  print(\"Above ten.\")\n",
        "  if x > 20:\n",
        "    print(\"Above ten,\" + \" and also above 20!\")\n",
        "  else:\n",
        "    print(\"Above ten,\" + \"but not above 20.\")"
      ],
      "metadata": {
        "colab": {
          "base_uri": "https://localhost:8080/"
        },
        "id": "BMzU3CPuDvE6",
        "outputId": "483e9619-b077-4273-baac-5b476dd5be9a"
      },
      "execution_count": null,
      "outputs": [
        {
          "output_type": "stream",
          "name": "stdout",
          "text": [
            "Above ten.\n",
            "Above ten,but not above 20.\n"
          ]
        }
      ]
    },
    {
      "cell_type": "markdown",
      "source": [
        "### **Class of August 29th 2024**"
      ],
      "metadata": {
        "id": "MUfUfGmo8ZJZ"
      }
    },
    {
      "cell_type": "markdown",
      "source": [
        "**FALTA TEMA: 2.2 TUPLES**\n",
        "Python tuples are a type of data structure that is very similar to lists. The main difference between the two is that tuples are immutable, meaning they cannot be changed once they are created. This makes them ideal for storing data that should not be modified, such as database records.\n",
        "Lists []\n",
        "Tuple ()"
      ],
      "metadata": {
        "id": "Vq4zRLhZ-26M"
      }
    },
    {
      "cell_type": "code",
      "source": [
        "fruits = [\"apple\", \"banana\", \"cherry\"]\n",
        "\n",
        "for x in fruits:\n",
        "  print(x)"
      ],
      "metadata": {
        "colab": {
          "base_uri": "https://localhost:8080/"
        },
        "id": "BJ6BKbuK8uSy",
        "outputId": "9932c684-5922-46c4-93a3-ba8e08403b61"
      },
      "execution_count": 1,
      "outputs": [
        {
          "output_type": "stream",
          "name": "stdout",
          "text": [
            "apple\n",
            "banana\n",
            "cherry\n"
          ]
        }
      ]
    },
    {
      "cell_type": "code",
      "source": [
        "# For on a string\n",
        "\n",
        "for x in \"banana\":\n",
        "  print(x)"
      ],
      "metadata": {
        "colab": {
          "base_uri": "https://localhost:8080/"
        },
        "id": "unxmfplZ_LRQ",
        "outputId": "adcb4683-cdc8-450b-d59f-ed85ad467df1"
      },
      "execution_count": 2,
      "outputs": [
        {
          "output_type": "stream",
          "name": "stdout",
          "text": [
            "b\n",
            "a\n",
            "n\n",
            "a\n",
            "n\n",
            "a\n"
          ]
        }
      ]
    },
    {
      "cell_type": "code",
      "source": [
        "# Range\n",
        "y = range(5)\n",
        "\n",
        "for x in y:\n",
        "  print(x)\n",
        "\n",
        "#print(y)"
      ],
      "metadata": {
        "colab": {
          "base_uri": "https://localhost:8080/"
        },
        "id": "Ymk2YGxO_SM0",
        "outputId": "90064fb2-0fc5-484c-abf5-b44c94ff6b26"
      },
      "execution_count": 4,
      "outputs": [
        {
          "output_type": "stream",
          "name": "stdout",
          "text": [
            "0\n",
            "1\n",
            "2\n",
            "3\n",
            "4\n"
          ]
        }
      ]
    },
    {
      "cell_type": "code",
      "source": [
        "# We can be more specific with the start, end, and increment numbers.\n",
        "\n",
        "for x in range(2,31,2):\n",
        "  print(x)"
      ],
      "metadata": {
        "colab": {
          "base_uri": "https://localhost:8080/"
        },
        "id": "IRP4dCv3_SQ2",
        "outputId": "dcd5718c-89eb-41d9-e263-39813e602ff8"
      },
      "execution_count": 7,
      "outputs": [
        {
          "output_type": "stream",
          "name": "stdout",
          "text": [
            "2\n",
            "4\n",
            "6\n",
            "8\n",
            "10\n",
            "12\n",
            "14\n",
            "16\n",
            "18\n",
            "20\n",
            "22\n",
            "24\n",
            "26\n",
            "28\n",
            "30\n"
          ]
        }
      ]
    },
    {
      "cell_type": "code",
      "source": [
        "# \"Else\" on a \"for\" cycle.\n",
        "for x in range(3):\n",
        "  print(x)\n",
        "else:\n",
        "  print(\"Finally finished!\")"
      ],
      "metadata": {
        "colab": {
          "base_uri": "https://localhost:8080/"
        },
        "id": "t31Gajav_SVU",
        "outputId": "cf7ee96d-29c2-4b2d-d892-afe3e98c9fad"
      },
      "execution_count": 8,
      "outputs": [
        {
          "output_type": "stream",
          "name": "stdout",
          "text": [
            "0\n",
            "1\n",
            "2\n",
            "Finally finished!\n"
          ]
        }
      ]
    },
    {
      "cell_type": "code",
      "source": [
        "# \"break\" to interrupt a cycle.\n",
        "for x in range(7):\n",
        "  if x == 6:\n",
        "    print(\"Error!\")\n",
        "    break\n",
        "  print(x)\n",
        "else:\n",
        "  print(\"Finally finished!\")"
      ],
      "metadata": {
        "colab": {
          "base_uri": "https://localhost:8080/"
        },
        "id": "TfzilDW_AIQx",
        "outputId": "856a77d1-80a5-4f81-f2e7-7deed214758e"
      },
      "execution_count": 10,
      "outputs": [
        {
          "output_type": "stream",
          "name": "stdout",
          "text": [
            "0\n",
            "1\n",
            "2\n",
            "3\n",
            "4\n",
            "5\n",
            "Error!\n"
          ]
        }
      ]
    },
    {
      "cell_type": "code",
      "source": [
        "# Nested for.\n",
        "\n",
        "adj = [\"red\", \"big\", \"tasty\"]\n",
        "fruits = [\"apple\", \"banana\", \"cherry\"]\n",
        "\n",
        "for x in adj:\n",
        "  for y in fruits:\n",
        "    print(x, y)"
      ],
      "metadata": {
        "colab": {
          "base_uri": "https://localhost:8080/"
        },
        "id": "iKjPemQiAIaq",
        "outputId": "3922634d-08c0-410f-973e-60b52c55586f"
      },
      "execution_count": 11,
      "outputs": [
        {
          "output_type": "stream",
          "name": "stdout",
          "text": [
            "red apple\n",
            "red banana\n",
            "red cherry\n",
            "big apple\n",
            "big banana\n",
            "big cherry\n",
            "tasty apple\n",
            "tasty banana\n",
            "tasty cherry\n"
          ]
        }
      ]
    },
    {
      "cell_type": "code",
      "source": [
        "# While loop syntax.\n",
        "\n",
        "i = 1\n",
        "\n",
        "while i < 6:\n",
        "  print(i)\n",
        "  i += 1  # i = i + 1"
      ],
      "metadata": {
        "colab": {
          "base_uri": "https://localhost:8080/"
        },
        "id": "yXLY9HcPAIeV",
        "outputId": "55b306e3-4e7a-465a-9f02-4b9f32049c6a"
      },
      "execution_count": 17,
      "outputs": [
        {
          "output_type": "stream",
          "name": "stdout",
          "text": [
            "1\n",
            "2\n",
            "3\n",
            "4\n",
            "5\n"
          ]
        }
      ]
    },
    {
      "cell_type": "code",
      "source": [
        "# \"break\" on a while loop\n",
        "\n",
        "i = 1\n",
        "\n",
        "while i < 6:\n",
        "  print(i)\n",
        "  if i == 5:\n",
        "    print(\"Error!\")\n",
        "    break\n",
        "  i += 1\n",
        "else:\n",
        "  print(\"se terminó el ciclo while\")"
      ],
      "metadata": {
        "colab": {
          "base_uri": "https://localhost:8080/"
        },
        "id": "jyLLS0j_BDu4",
        "outputId": "c48752a1-69c6-478d-c72e-ab4e0144b185"
      },
      "execution_count": 18,
      "outputs": [
        {
          "output_type": "stream",
          "name": "stdout",
          "text": [
            "1\n",
            "2\n",
            "3\n",
            "4\n",
            "5\n",
            "Error!\n"
          ]
        }
      ]
    },
    {
      "cell_type": "code",
      "source": [
        "# Program \"parrot\".\n",
        "\n",
        "message = input(\"Tell me something and I will repeat it: \")\n",
        "print(message)"
      ],
      "metadata": {
        "colab": {
          "base_uri": "https://localhost:8080/"
        },
        "id": "x8yb0R_IBDxD",
        "outputId": "545c8a0c-142a-48c4-f2f0-f9dbea4db904"
      },
      "execution_count": 19,
      "outputs": [
        {
          "output_type": "stream",
          "name": "stdout",
          "text": [
            "Tell me something and I will repeat it: No\n",
            "No\n"
          ]
        }
      ]
    },
    {
      "cell_type": "code",
      "source": [
        "# Add another element to a list\n",
        "\n",
        "adj = [\"red\", \"big\", \"tasty\"]\n",
        "\n",
        "adj.append(\"green\")\n",
        "print(adj)"
      ],
      "metadata": {
        "colab": {
          "base_uri": "https://localhost:8080/"
        },
        "id": "WLXWZfVsBDzh",
        "outputId": "90e23bd0-a739-4773-b68a-47f959228a84"
      },
      "execution_count": 20,
      "outputs": [
        {
          "output_type": "stream",
          "name": "stdout",
          "text": [
            "['red', 'big', 'tasty', 'green']\n"
          ]
        }
      ]
    },
    {
      "cell_type": "code",
      "source": [
        "adj.remove(\"red\")\n",
        "print(adj)"
      ],
      "metadata": {
        "colab": {
          "base_uri": "https://localhost:8080/"
        },
        "id": "D05gBZtEBD2P",
        "outputId": "db23f762-2a27-4434-b046-5956a8a10e0f"
      },
      "execution_count": 21,
      "outputs": [
        {
          "output_type": "stream",
          "name": "stdout",
          "text": [
            "['big', 'tasty', 'green']\n"
          ]
        }
      ]
    },
    {
      "cell_type": "code",
      "source": [
        "adj.pop(0)\n",
        "print(adj)"
      ],
      "metadata": {
        "colab": {
          "base_uri": "https://localhost:8080/"
        },
        "id": "k8qhJtlsCbeb",
        "outputId": "794ae686-6d5f-4522-b8ea-f9e15c828b09"
      },
      "execution_count": 22,
      "outputs": [
        {
          "output_type": "stream",
          "name": "stdout",
          "text": [
            "['tasty', 'green']\n"
          ]
        }
      ]
    },
    {
      "cell_type": "markdown",
      "source": [
        "# **Functions**"
      ],
      "metadata": {
        "id": "3uleI9vKCjji"
      }
    },
    {
      "cell_type": "code",
      "source": [
        "# Function in Python.\n",
        "def my_function():\n",
        "  print(\"Hello from a function\")"
      ],
      "metadata": {
        "id": "TassgaSnCfkA"
      },
      "execution_count": 29,
      "outputs": []
    },
    {
      "cell_type": "code",
      "source": [
        "# To use the function:\n",
        "my_function(\"Daniela\")"
      ],
      "metadata": {
        "colab": {
          "base_uri": "https://localhost:8080/"
        },
        "id": "6ZolM-SzCfpf",
        "outputId": "4cc0bcd9-8ee1-4a38-afc1-619813f65200"
      },
      "execution_count": 34,
      "outputs": [
        {
          "output_type": "stream",
          "name": "stdout",
          "text": [
            "Daniela Ortega\n"
          ]
        }
      ]
    },
    {
      "cell_type": "code",
      "source": [
        "# fname = parameter\n",
        "# \"Emil\", \"Tobias\" and \"Linus\" = argument\n",
        "\n",
        "def my_function(fname):\n",
        "  print(fname + \" Ortega\")"
      ],
      "metadata": {
        "id": "W8F-drNSCfs4"
      },
      "execution_count": 33,
      "outputs": []
    },
    {
      "cell_type": "code",
      "source": [
        "# If a function was defined with two parameters, it will need 2 arguments.\n",
        "def my_function(fname, lname):\n",
        "  print(fname + \" \" + lname)"
      ],
      "metadata": {
        "id": "TiViW4cLCfwY"
      },
      "execution_count": 40,
      "outputs": []
    },
    {
      "cell_type": "code",
      "source": [
        "my_function(\"Daniela\", \"Ortega\")"
      ],
      "metadata": {
        "colab": {
          "base_uri": "https://localhost:8080/"
        },
        "id": "b21n7LafDe-A",
        "outputId": "d7bf9575-51d0-4686-a4e2-68c0645bedf6"
      },
      "execution_count": 41,
      "outputs": [
        {
          "output_type": "stream",
          "name": "stdout",
          "text": [
            "Daniela Ortega\n"
          ]
        }
      ]
    },
    {
      "cell_type": "code",
      "source": [
        "# List as an argument.\n",
        "def my_function(food):\n",
        "  for x in food:\n",
        "    print(x)"
      ],
      "metadata": {
        "id": "ytouq9giDfA6"
      },
      "execution_count": 38,
      "outputs": []
    },
    {
      "cell_type": "code",
      "source": [
        "def funcion(lista):\n",
        "  print(lista[-1])\n",
        "  for x in range(len(lista)):\n",
        "    print(lista[x])"
      ],
      "metadata": {
        "id": "dR-FE4bYD7Ju"
      },
      "execution_count": 44,
      "outputs": []
    },
    {
      "cell_type": "code",
      "source": [
        "funcion(adj)"
      ],
      "metadata": {
        "colab": {
          "base_uri": "https://localhost:8080/"
        },
        "id": "ppKmKcSGD7MU",
        "outputId": "e8c8d44b-d69a-4b2c-a4a1-608b5febde80"
      },
      "execution_count": 45,
      "outputs": [
        {
          "output_type": "stream",
          "name": "stdout",
          "text": [
            "green\n",
            "tasty\n",
            "green\n"
          ]
        }
      ]
    },
    {
      "cell_type": "code",
      "source": [
        "print(adj)"
      ],
      "metadata": {
        "colab": {
          "base_uri": "https://localhost:8080/"
        },
        "id": "dt41W4zID7PM",
        "outputId": "eba05089-8c01-46b6-8674-c3c7483c2258"
      },
      "execution_count": 46,
      "outputs": [
        {
          "output_type": "stream",
          "name": "stdout",
          "text": [
            "['tasty', 'green']\n"
          ]
        }
      ]
    },
    {
      "cell_type": "code",
      "source": [
        "import numpy as np\n"
      ],
      "metadata": {
        "id": "kn-bZgG4Es-i"
      },
      "execution_count": 47,
      "outputs": []
    }
  ]
}